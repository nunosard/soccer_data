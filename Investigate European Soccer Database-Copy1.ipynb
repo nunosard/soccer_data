{
 "cells": [
  {
   "cell_type": "markdown",
   "metadata": {},
   "source": [
    "# Project: Investigate European Soccer Database\n",
    "\n",
    "## Table of Contents\n",
    "<ul>\n",
    "<li><a href=\"#intro\">Introduction</a></li>\n",
    "<li><a href=\"#wrangling\">Data Wrangling</a></li>\n",
    "<li><a href=\"#eda\">Exploratory Data Analysis</a></li>\n",
    "       -  <a href=\"#q4\">How was Sporting CP performance in the last seasons?</a><br>\n",
    "    -  <a href=\"#q5\">Did Sporting perform better in the seasons the had only one coach?</a>\n",
    "<li><a href=\"#conclusions\">Conclusions</a></li>\n",
    "</ul>"
   ]
  },
  {
   "cell_type": "markdown",
   "metadata": {},
   "source": [
    "<a id='intro'></a>\n",
    "## Introduction\n",
    "\n",
    " \n",
    "<li> How was Sporting CP performance in the last seasons?\n",
    "<li> Did Sporting perform better in the seasons the had only one coach?\n"
   ]
  },
  {
   "cell_type": "markdown",
   "metadata": {},
   "source": [
    "<a id='wrangling'></a>\n",
    "## Data Wrangling\n",
    "\n"
   ]
  },
  {
   "cell_type": "code",
   "execution_count": 1,
   "metadata": {},
   "outputs": [],
   "source": [
    "# Import statements for all of the packages \n",
    "import numpy as np\n",
    "import pandas as pd\n",
    "import sqlite3\n",
    "import matplotlib.pyplot as plt\n",
    "import seaborn as sns\n",
    "%matplotlib inline"
   ]
  },
  {
   "cell_type": "markdown",
   "metadata": {},
   "source": [
    "### Sporting CP Data\n",
    "\n",
    "To analyse Sporting performance, I created a csv file from a SQL query in SQLite. I wanted only the games where Sporting played and have the name of the clubs in my table, so I had to join \n",
    "The SQL query I used was the following:<br>\n",
    "<br>\n",
    "SELECT m.season, m.date, t1.team_long_name as home_team, t2.team_long_name AS away_team, m.home_team_goal, m.away_team_goal<br>\n",
    "FROM Match m<br>\n",
    "JOIN League l<br>\n",
    "ON m.league_id = l.id<br>\n",
    "INNER JOIN Team as t1<br>\n",
    "ON m.home_team_api_id = t1.team_api_id<br>\n",
    "INNER JOIN Team as t2<br>\n",
    "ON m.away_team_api_id = t2.team_api_id<br>\n",
    "WHERE l.name = 'Portugal Liga ZON Sagres' AND t1.team_long_name='Sporting CP' OR t2.team_long_name='Sporting CP'<br>\n",
    "ORDER BY m.date ASC;<br>\n",
    "<br>\n",
    "I saved the result from the query as 'sporting.csv'."
   ]
  },
  {
   "cell_type": "code",
   "execution_count": 2,
   "metadata": {},
   "outputs": [
    {
     "data": {
      "text/html": [
       "<div>\n",
       "<style scoped>\n",
       "    .dataframe tbody tr th:only-of-type {\n",
       "        vertical-align: middle;\n",
       "    }\n",
       "\n",
       "    .dataframe tbody tr th {\n",
       "        vertical-align: top;\n",
       "    }\n",
       "\n",
       "    .dataframe thead th {\n",
       "        text-align: right;\n",
       "    }\n",
       "</style>\n",
       "<table border=\"1\" class=\"dataframe\">\n",
       "  <thead>\n",
       "    <tr style=\"text-align: right;\">\n",
       "      <th></th>\n",
       "      <th>season</th>\n",
       "      <th>date</th>\n",
       "      <th>home_team</th>\n",
       "      <th>away_team</th>\n",
       "      <th>home_team_goal</th>\n",
       "      <th>away_team_goal</th>\n",
       "    </tr>\n",
       "  </thead>\n",
       "  <tbody>\n",
       "    <tr>\n",
       "      <th>0</th>\n",
       "      <td>2008/2009</td>\n",
       "      <td>2008-08-23 00:00:00</td>\n",
       "      <td>Sporting CP</td>\n",
       "      <td>Trofense</td>\n",
       "      <td>3</td>\n",
       "      <td>1</td>\n",
       "    </tr>\n",
       "    <tr>\n",
       "      <th>1</th>\n",
       "      <td>2008/2009</td>\n",
       "      <td>2008-09-01 00:00:00</td>\n",
       "      <td>SC Braga</td>\n",
       "      <td>Sporting CP</td>\n",
       "      <td>0</td>\n",
       "      <td>1</td>\n",
       "    </tr>\n",
       "    <tr>\n",
       "      <th>2</th>\n",
       "      <td>2008/2009</td>\n",
       "      <td>2008-09-20 00:00:00</td>\n",
       "      <td>Sporting CP</td>\n",
       "      <td>CF Os Belenenses</td>\n",
       "      <td>2</td>\n",
       "      <td>0</td>\n",
       "    </tr>\n",
       "    <tr>\n",
       "      <th>3</th>\n",
       "      <td>2008/2009</td>\n",
       "      <td>2008-09-27 00:00:00</td>\n",
       "      <td>SL Benfica</td>\n",
       "      <td>Sporting CP</td>\n",
       "      <td>2</td>\n",
       "      <td>0</td>\n",
       "    </tr>\n",
       "    <tr>\n",
       "      <th>4</th>\n",
       "      <td>2008/2009</td>\n",
       "      <td>2008-10-05 00:00:00</td>\n",
       "      <td>Sporting CP</td>\n",
       "      <td>FC Porto</td>\n",
       "      <td>1</td>\n",
       "      <td>2</td>\n",
       "    </tr>\n",
       "  </tbody>\n",
       "</table>\n",
       "</div>"
      ],
      "text/plain": [
       "      season                 date    home_team         away_team  \\\n",
       "0  2008/2009  2008-08-23 00:00:00  Sporting CP          Trofense   \n",
       "1  2008/2009  2008-09-01 00:00:00     SC Braga       Sporting CP   \n",
       "2  2008/2009  2008-09-20 00:00:00  Sporting CP  CF Os Belenenses   \n",
       "3  2008/2009  2008-09-27 00:00:00   SL Benfica       Sporting CP   \n",
       "4  2008/2009  2008-10-05 00:00:00  Sporting CP          FC Porto   \n",
       "\n",
       "   home_team_goal  away_team_goal  \n",
       "0               3               1  \n",
       "1               0               1  \n",
       "2               2               0  \n",
       "3               2               0  \n",
       "4               1               2  "
      ]
     },
     "execution_count": 2,
     "metadata": {},
     "output_type": "execute_result"
    }
   ],
   "source": [
    "## Read the sporting.csv file\n",
    "sporting = pd.read_csv('sporting.csv')\n",
    "sporting.head()"
   ]
  },
  {
   "cell_type": "markdown",
   "metadata": {},
   "source": [
    "<a id='eda'></a>\n",
    "## Exploratory Data Analysis\n",
    "\n"
   ]
  },
  {
   "cell_type": "markdown",
   "metadata": {},
   "source": [
    "<a id='q4'></a>\n",
    "### How was Sporting CP performance in the last seasons?\n",
    "\n",
    "As a Sporting supporter, I am interested in looking at the performance of my favourite team. In the last years, Porto and Benfica have been the favourite challengers for the Title. Is Sporting improving its performance and is it possible that in the next few years we can expect our club to be the challenging for the title?"
   ]
  },
  {
   "cell_type": "code",
   "execution_count": 3,
   "metadata": {},
   "outputs": [
    {
     "data": {
      "text/html": [
       "<div>\n",
       "<style scoped>\n",
       "    .dataframe tbody tr th:only-of-type {\n",
       "        vertical-align: middle;\n",
       "    }\n",
       "\n",
       "    .dataframe tbody tr th {\n",
       "        vertical-align: top;\n",
       "    }\n",
       "\n",
       "    .dataframe thead th {\n",
       "        text-align: right;\n",
       "    }\n",
       "</style>\n",
       "<table border=\"1\" class=\"dataframe\">\n",
       "  <thead>\n",
       "    <tr style=\"text-align: right;\">\n",
       "      <th></th>\n",
       "      <th>season</th>\n",
       "      <th>date</th>\n",
       "      <th>home_team</th>\n",
       "      <th>away_team</th>\n",
       "      <th>home_team_goal</th>\n",
       "      <th>away_team_goal</th>\n",
       "    </tr>\n",
       "  </thead>\n",
       "  <tbody>\n",
       "    <tr>\n",
       "      <th>0</th>\n",
       "      <td>2008/2009</td>\n",
       "      <td>2008-08-23 00:00:00</td>\n",
       "      <td>Sporting CP</td>\n",
       "      <td>Trofense</td>\n",
       "      <td>3</td>\n",
       "      <td>1</td>\n",
       "    </tr>\n",
       "    <tr>\n",
       "      <th>2</th>\n",
       "      <td>2008/2009</td>\n",
       "      <td>2008-09-20 00:00:00</td>\n",
       "      <td>Sporting CP</td>\n",
       "      <td>CF Os Belenenses</td>\n",
       "      <td>2</td>\n",
       "      <td>0</td>\n",
       "    </tr>\n",
       "    <tr>\n",
       "      <th>4</th>\n",
       "      <td>2008/2009</td>\n",
       "      <td>2008-10-05 00:00:00</td>\n",
       "      <td>Sporting CP</td>\n",
       "      <td>FC Porto</td>\n",
       "      <td>1</td>\n",
       "      <td>2</td>\n",
       "    </tr>\n",
       "    <tr>\n",
       "      <th>7</th>\n",
       "      <td>2008/2009</td>\n",
       "      <td>2008-11-15 00:00:00</td>\n",
       "      <td>Sporting CP</td>\n",
       "      <td>Leixões SC</td>\n",
       "      <td>0</td>\n",
       "      <td>1</td>\n",
       "    </tr>\n",
       "    <tr>\n",
       "      <th>9</th>\n",
       "      <td>2008/2009</td>\n",
       "      <td>2008-11-30 00:00:00</td>\n",
       "      <td>Sporting CP</td>\n",
       "      <td>Vitória Guimarães</td>\n",
       "      <td>2</td>\n",
       "      <td>0</td>\n",
       "    </tr>\n",
       "  </tbody>\n",
       "</table>\n",
       "</div>"
      ],
      "text/plain": [
       "      season                 date    home_team          away_team  \\\n",
       "0  2008/2009  2008-08-23 00:00:00  Sporting CP           Trofense   \n",
       "2  2008/2009  2008-09-20 00:00:00  Sporting CP   CF Os Belenenses   \n",
       "4  2008/2009  2008-10-05 00:00:00  Sporting CP           FC Porto   \n",
       "7  2008/2009  2008-11-15 00:00:00  Sporting CP         Leixões SC   \n",
       "9  2008/2009  2008-11-30 00:00:00  Sporting CP  Vitória Guimarães   \n",
       "\n",
       "   home_team_goal  away_team_goal  \n",
       "0               3               1  \n",
       "2               2               0  \n",
       "4               1               2  \n",
       "7               0               1  \n",
       "9               2               0  "
      ]
     },
     "execution_count": 3,
     "metadata": {},
     "output_type": "execute_result"
    }
   ],
   "source": [
    "# Create a new DataFrame for Sporting home matches\n",
    "sporting_home = sporting.query('home_team == \"Sporting CP\"')\n",
    "sporting_home.head()"
   ]
  },
  {
   "cell_type": "code",
   "execution_count": 4,
   "metadata": {},
   "outputs": [
    {
     "data": {
      "text/html": [
       "<div>\n",
       "<style scoped>\n",
       "    .dataframe tbody tr th:only-of-type {\n",
       "        vertical-align: middle;\n",
       "    }\n",
       "\n",
       "    .dataframe tbody tr th {\n",
       "        vertical-align: top;\n",
       "    }\n",
       "\n",
       "    .dataframe thead th {\n",
       "        text-align: right;\n",
       "    }\n",
       "</style>\n",
       "<table border=\"1\" class=\"dataframe\">\n",
       "  <thead>\n",
       "    <tr style=\"text-align: right;\">\n",
       "      <th></th>\n",
       "      <th>season</th>\n",
       "      <th>date</th>\n",
       "      <th>home_team</th>\n",
       "      <th>away_team</th>\n",
       "      <th>home_team_goal</th>\n",
       "      <th>away_team_goal</th>\n",
       "    </tr>\n",
       "  </thead>\n",
       "  <tbody>\n",
       "    <tr>\n",
       "      <th>1</th>\n",
       "      <td>2008/2009</td>\n",
       "      <td>2008-09-01 00:00:00</td>\n",
       "      <td>SC Braga</td>\n",
       "      <td>Sporting CP</td>\n",
       "      <td>0</td>\n",
       "      <td>1</td>\n",
       "    </tr>\n",
       "    <tr>\n",
       "      <th>3</th>\n",
       "      <td>2008/2009</td>\n",
       "      <td>2008-09-27 00:00:00</td>\n",
       "      <td>SL Benfica</td>\n",
       "      <td>Sporting CP</td>\n",
       "      <td>2</td>\n",
       "      <td>0</td>\n",
       "    </tr>\n",
       "    <tr>\n",
       "      <th>5</th>\n",
       "      <td>2008/2009</td>\n",
       "      <td>2008-10-26 00:00:00</td>\n",
       "      <td>FC Paços de Ferreira</td>\n",
       "      <td>Sporting CP</td>\n",
       "      <td>0</td>\n",
       "      <td>0</td>\n",
       "    </tr>\n",
       "    <tr>\n",
       "      <th>6</th>\n",
       "      <td>2008/2009</td>\n",
       "      <td>2008-11-01 00:00:00</td>\n",
       "      <td>Rio Ave FC</td>\n",
       "      <td>Sporting CP</td>\n",
       "      <td>0</td>\n",
       "      <td>1</td>\n",
       "    </tr>\n",
       "    <tr>\n",
       "      <th>8</th>\n",
       "      <td>2008/2009</td>\n",
       "      <td>2008-11-22 00:00:00</td>\n",
       "      <td>Naval 1° de Maio</td>\n",
       "      <td>Sporting CP</td>\n",
       "      <td>0</td>\n",
       "      <td>1</td>\n",
       "    </tr>\n",
       "  </tbody>\n",
       "</table>\n",
       "</div>"
      ],
      "text/plain": [
       "      season                 date             home_team    away_team  \\\n",
       "1  2008/2009  2008-09-01 00:00:00              SC Braga  Sporting CP   \n",
       "3  2008/2009  2008-09-27 00:00:00            SL Benfica  Sporting CP   \n",
       "5  2008/2009  2008-10-26 00:00:00  FC Paços de Ferreira  Sporting CP   \n",
       "6  2008/2009  2008-11-01 00:00:00            Rio Ave FC  Sporting CP   \n",
       "8  2008/2009  2008-11-22 00:00:00      Naval 1° de Maio  Sporting CP   \n",
       "\n",
       "   home_team_goal  away_team_goal  \n",
       "1               0               1  \n",
       "3               2               0  \n",
       "5               0               0  \n",
       "6               0               1  \n",
       "8               0               1  "
      ]
     },
     "execution_count": 4,
     "metadata": {},
     "output_type": "execute_result"
    }
   ],
   "source": [
    "# Create a new DataFrame for Sporting away matches\n",
    "sporting_away = sporting.query('away_team == \"Sporting CP\"')\n",
    "sporting_away.head()"
   ]
  },
  {
   "cell_type": "code",
   "execution_count": 5,
   "metadata": {},
   "outputs": [],
   "source": [
    "# Define 3 points for each victory, 1 point for each Draw and 0 points for each defeat on Home matches\n",
    "def pts_h(sporting_home):\n",
    "    if sporting_home[\"home_team_goal\"] > sporting_home[\"away_team_goal\"]:\n",
    "        return 3\n",
    "    elif sporting_home[\"home_team_goal\"] < sporting_home[\"away_team_goal\"]:\n",
    "        return 0\n",
    "    elif sporting_home[\"home_team_goal\"] == sporting_home[\"away_team_goal\"]:\n",
    "        return 1"
   ]
  },
  {
   "cell_type": "code",
   "execution_count": 6,
   "metadata": {},
   "outputs": [
    {
     "name": "stderr",
     "output_type": "stream",
     "text": [
      "C:\\ProgramData\\Anaconda3\\lib\\site-packages\\ipykernel_launcher.py:2: SettingWithCopyWarning: \n",
      "A value is trying to be set on a copy of a slice from a DataFrame.\n",
      "Try using .loc[row_indexer,col_indexer] = value instead\n",
      "\n",
      "See the caveats in the documentation: http://pandas.pydata.org/pandas-docs/stable/indexing.html#indexing-view-versus-copy\n",
      "  \n"
     ]
    },
    {
     "data": {
      "text/plain": [
       "season\n",
       "2008/2009    34\n",
       "2009/2010    27\n",
       "2010/2011    23\n",
       "2011/2012    38\n",
       "2012/2013    25\n",
       "2013/2014    34\n",
       "2014/2015    41\n",
       "2015/2016    42\n",
       "Name: points_home, dtype: int64"
      ]
     },
     "execution_count": 6,
     "metadata": {},
     "output_type": "execute_result"
    }
   ],
   "source": [
    "# Sum the total points earned per season on Home games\n",
    "sporting_home[\"points_home\"] = sporting_home.apply(lambda sporting_home:pts_h(sporting_home),axis = 1)\n",
    "sporting_home.groupby('season').points_home.sum()\n"
   ]
  },
  {
   "cell_type": "code",
   "execution_count": 7,
   "metadata": {},
   "outputs": [],
   "source": [
    "# Define 3 points for each victory, 1 point for each Draw and 0 points for each defeat on Away matches\n",
    "def pts_a(sporting_away):\n",
    "    if sporting_away[\"away_team_goal\"] > sporting_away[\"home_team_goal\"]:\n",
    "        return 3\n",
    "    elif sporting_away[\"away_team_goal\"] < sporting_away[\"home_team_goal\"]:\n",
    "        return 0\n",
    "    elif sporting_away[\"home_team_goal\"] == sporting_away[\"away_team_goal\"]:\n",
    "        return 1"
   ]
  },
  {
   "cell_type": "code",
   "execution_count": 8,
   "metadata": {},
   "outputs": [
    {
     "name": "stderr",
     "output_type": "stream",
     "text": [
      "C:\\ProgramData\\Anaconda3\\lib\\site-packages\\ipykernel_launcher.py:2: SettingWithCopyWarning: \n",
      "A value is trying to be set on a copy of a slice from a DataFrame.\n",
      "Try using .loc[row_indexer,col_indexer] = value instead\n",
      "\n",
      "See the caveats in the documentation: http://pandas.pydata.org/pandas-docs/stable/indexing.html#indexing-view-versus-copy\n",
      "  \n"
     ]
    },
    {
     "data": {
      "text/plain": [
       "season\n",
       "2008/2009    32\n",
       "2009/2010    21\n",
       "2010/2011    25\n",
       "2011/2012    21\n",
       "2012/2013    17\n",
       "2013/2014    33\n",
       "2014/2015    35\n",
       "2015/2016    44\n",
       "Name: points_away, dtype: int64"
      ]
     },
     "execution_count": 8,
     "metadata": {},
     "output_type": "execute_result"
    }
   ],
   "source": [
    "# Sum the total points earned per season on Away games\n",
    "sporting_away[\"points_away\"] = sporting_away.apply(lambda sporting_away:pts_a(sporting_away),axis = 1)\n",
    "sporting_away.groupby('season').points_away.sum()"
   ]
  },
  {
   "cell_type": "code",
   "execution_count": 9,
   "metadata": {
    "scrolled": true
   },
   "outputs": [
    {
     "data": {
      "text/html": [
       "<div>\n",
       "<style scoped>\n",
       "    .dataframe tbody tr th:only-of-type {\n",
       "        vertical-align: middle;\n",
       "    }\n",
       "\n",
       "    .dataframe tbody tr th {\n",
       "        vertical-align: top;\n",
       "    }\n",
       "\n",
       "    .dataframe thead th {\n",
       "        text-align: right;\n",
       "    }\n",
       "</style>\n",
       "<table border=\"1\" class=\"dataframe\">\n",
       "  <thead>\n",
       "    <tr style=\"text-align: right;\">\n",
       "      <th></th>\n",
       "      <th>season</th>\n",
       "      <th>date</th>\n",
       "      <th>home_team</th>\n",
       "      <th>away_team</th>\n",
       "      <th>home_team_goal</th>\n",
       "      <th>away_team_goal</th>\n",
       "      <th>points_away</th>\n",
       "    </tr>\n",
       "  </thead>\n",
       "  <tbody>\n",
       "    <tr>\n",
       "      <th>1</th>\n",
       "      <td>2008/2009</td>\n",
       "      <td>2008-09-01 00:00:00</td>\n",
       "      <td>SC Braga</td>\n",
       "      <td>Sporting CP</td>\n",
       "      <td>0</td>\n",
       "      <td>1</td>\n",
       "      <td>3</td>\n",
       "    </tr>\n",
       "    <tr>\n",
       "      <th>3</th>\n",
       "      <td>2008/2009</td>\n",
       "      <td>2008-09-27 00:00:00</td>\n",
       "      <td>SL Benfica</td>\n",
       "      <td>Sporting CP</td>\n",
       "      <td>2</td>\n",
       "      <td>0</td>\n",
       "      <td>0</td>\n",
       "    </tr>\n",
       "    <tr>\n",
       "      <th>5</th>\n",
       "      <td>2008/2009</td>\n",
       "      <td>2008-10-26 00:00:00</td>\n",
       "      <td>FC Paços de Ferreira</td>\n",
       "      <td>Sporting CP</td>\n",
       "      <td>0</td>\n",
       "      <td>0</td>\n",
       "      <td>1</td>\n",
       "    </tr>\n",
       "    <tr>\n",
       "      <th>6</th>\n",
       "      <td>2008/2009</td>\n",
       "      <td>2008-11-01 00:00:00</td>\n",
       "      <td>Rio Ave FC</td>\n",
       "      <td>Sporting CP</td>\n",
       "      <td>0</td>\n",
       "      <td>1</td>\n",
       "      <td>3</td>\n",
       "    </tr>\n",
       "    <tr>\n",
       "      <th>8</th>\n",
       "      <td>2008/2009</td>\n",
       "      <td>2008-11-22 00:00:00</td>\n",
       "      <td>Naval 1° de Maio</td>\n",
       "      <td>Sporting CP</td>\n",
       "      <td>0</td>\n",
       "      <td>1</td>\n",
       "      <td>3</td>\n",
       "    </tr>\n",
       "  </tbody>\n",
       "</table>\n",
       "</div>"
      ],
      "text/plain": [
       "      season                 date             home_team    away_team  \\\n",
       "1  2008/2009  2008-09-01 00:00:00              SC Braga  Sporting CP   \n",
       "3  2008/2009  2008-09-27 00:00:00            SL Benfica  Sporting CP   \n",
       "5  2008/2009  2008-10-26 00:00:00  FC Paços de Ferreira  Sporting CP   \n",
       "6  2008/2009  2008-11-01 00:00:00            Rio Ave FC  Sporting CP   \n",
       "8  2008/2009  2008-11-22 00:00:00      Naval 1° de Maio  Sporting CP   \n",
       "\n",
       "   home_team_goal  away_team_goal  points_away  \n",
       "1               0               1            3  \n",
       "3               2               0            0  \n",
       "5               0               0            1  \n",
       "6               0               1            3  \n",
       "8               0               1            3  "
      ]
     },
     "execution_count": 9,
     "metadata": {},
     "output_type": "execute_result"
    }
   ],
   "source": [
    "sporting_away.head()"
   ]
  },
  {
   "cell_type": "code",
   "execution_count": 10,
   "metadata": {},
   "outputs": [
    {
     "data": {
      "text/html": [
       "<div>\n",
       "<style scoped>\n",
       "    .dataframe tbody tr th:only-of-type {\n",
       "        vertical-align: middle;\n",
       "    }\n",
       "\n",
       "    .dataframe tbody tr th {\n",
       "        vertical-align: top;\n",
       "    }\n",
       "\n",
       "    .dataframe thead th {\n",
       "        text-align: right;\n",
       "    }\n",
       "</style>\n",
       "<table border=\"1\" class=\"dataframe\">\n",
       "  <thead>\n",
       "    <tr style=\"text-align: right;\">\n",
       "      <th></th>\n",
       "      <th>season</th>\n",
       "      <th>date</th>\n",
       "      <th>home_team</th>\n",
       "      <th>away_team</th>\n",
       "      <th>home_team_goal</th>\n",
       "      <th>away_team_goal</th>\n",
       "      <th>points_home</th>\n",
       "      <th>points_away</th>\n",
       "      <th>points_total</th>\n",
       "    </tr>\n",
       "  </thead>\n",
       "  <tbody>\n",
       "    <tr>\n",
       "      <th>239</th>\n",
       "      <td>2015/2016</td>\n",
       "      <td>2016-03-12 00:00:00</td>\n",
       "      <td>Estoril Praia</td>\n",
       "      <td>Sporting CP</td>\n",
       "      <td>1</td>\n",
       "      <td>2</td>\n",
       "      <td>0.0</td>\n",
       "      <td>3.0</td>\n",
       "      <td>3.0</td>\n",
       "    </tr>\n",
       "    <tr>\n",
       "      <th>241</th>\n",
       "      <td>2015/2016</td>\n",
       "      <td>2016-04-04 00:00:00</td>\n",
       "      <td>CF Os Belenenses</td>\n",
       "      <td>Sporting CP</td>\n",
       "      <td>2</td>\n",
       "      <td>5</td>\n",
       "      <td>0.0</td>\n",
       "      <td>3.0</td>\n",
       "      <td>3.0</td>\n",
       "    </tr>\n",
       "    <tr>\n",
       "      <th>243</th>\n",
       "      <td>2015/2016</td>\n",
       "      <td>2016-04-16 00:00:00</td>\n",
       "      <td>Moreirense FC</td>\n",
       "      <td>Sporting CP</td>\n",
       "      <td>0</td>\n",
       "      <td>1</td>\n",
       "      <td>0.0</td>\n",
       "      <td>3.0</td>\n",
       "      <td>3.0</td>\n",
       "    </tr>\n",
       "    <tr>\n",
       "      <th>245</th>\n",
       "      <td>2015/2016</td>\n",
       "      <td>2016-04-30 00:00:00</td>\n",
       "      <td>FC Porto</td>\n",
       "      <td>Sporting CP</td>\n",
       "      <td>1</td>\n",
       "      <td>3</td>\n",
       "      <td>0.0</td>\n",
       "      <td>3.0</td>\n",
       "      <td>3.0</td>\n",
       "    </tr>\n",
       "    <tr>\n",
       "      <th>247</th>\n",
       "      <td>2015/2016</td>\n",
       "      <td>2016-05-15 00:00:00</td>\n",
       "      <td>SC Braga</td>\n",
       "      <td>Sporting CP</td>\n",
       "      <td>0</td>\n",
       "      <td>4</td>\n",
       "      <td>0.0</td>\n",
       "      <td>3.0</td>\n",
       "      <td>3.0</td>\n",
       "    </tr>\n",
       "  </tbody>\n",
       "</table>\n",
       "</div>"
      ],
      "text/plain": [
       "        season                 date         home_team    away_team  \\\n",
       "239  2015/2016  2016-03-12 00:00:00     Estoril Praia  Sporting CP   \n",
       "241  2015/2016  2016-04-04 00:00:00  CF Os Belenenses  Sporting CP   \n",
       "243  2015/2016  2016-04-16 00:00:00     Moreirense FC  Sporting CP   \n",
       "245  2015/2016  2016-04-30 00:00:00          FC Porto  Sporting CP   \n",
       "247  2015/2016  2016-05-15 00:00:00          SC Braga  Sporting CP   \n",
       "\n",
       "     home_team_goal  away_team_goal  points_home  points_away  points_total  \n",
       "239               1               2          0.0          3.0           3.0  \n",
       "241               2               5          0.0          3.0           3.0  \n",
       "243               0               1          0.0          3.0           3.0  \n",
       "245               1               3          0.0          3.0           3.0  \n",
       "247               0               4          0.0          3.0           3.0  "
      ]
     },
     "execution_count": 10,
     "metadata": {},
     "output_type": "execute_result"
    }
   ],
   "source": [
    "# Combine the Home and Away tables and add a new column with the total points (Home + Away)\n",
    "total_points = sporting_home.append(sporting_away, sort=False).fillna(0)\n",
    "total_points['points_total'] = total_points['points_home'] + total_points['points_away']\n",
    "total_points.tail()\n"
   ]
  },
  {
   "cell_type": "code",
   "execution_count": 11,
   "metadata": {},
   "outputs": [
    {
     "data": {
      "text/plain": [
       "season\n",
       "2008/2009    66.0\n",
       "2009/2010    48.0\n",
       "2010/2011    48.0\n",
       "2011/2012    59.0\n",
       "2012/2013    42.0\n",
       "2013/2014    67.0\n",
       "2014/2015    76.0\n",
       "2015/2016    86.0\n",
       "Name: points_total, dtype: float64"
      ]
     },
     "execution_count": 11,
     "metadata": {},
     "output_type": "execute_result"
    }
   ],
   "source": [
    "# Total points earned in each season\n",
    "sporting_points = total_points.groupby('season')['points_total'].sum();\n",
    "sporting_points"
   ]
  },
  {
   "cell_type": "code",
   "execution_count": 12,
   "metadata": {
    "scrolled": false
   },
   "outputs": [
    {
     "data": {
      "image/png": "[encoded data removed]",
      "text/plain": [
       "<Figure size 720x360 with 1 Axes>"
      ]
     },
     "metadata": {
      "needs_background": "light"
     },
     "output_type": "display_data"
    }
   ],
   "source": [
    "# Bar chart with total points per season\n",
    "sporting_points.plot(kind=\"bar\", figsize = (10,5), edgecolor = \"k\", colormap=\"ocean\", title=\"Sporting Points per Season\")\n",
    "plt.ylabel('Points');"
   ]
  },
  {
   "cell_type": "markdown",
   "metadata": {},
   "source": [
    "The Portuguese League had 30 stages until 2013/2014 and since 2014/2015 the number of stages was 34. In order to compare the performance, I divided the number of points by the number of matches played."
   ]
  },
  {
   "cell_type": "code",
   "execution_count": 13,
   "metadata": {},
   "outputs": [
    {
     "data": {
      "text/plain": [
       "season\n",
       "2008/2009    2.200000\n",
       "2009/2010    1.600000\n",
       "2010/2011    1.600000\n",
       "2011/2012    1.966667\n",
       "2012/2013    1.400000\n",
       "2013/2014    2.233333\n",
       "2014/2015    2.235294\n",
       "2015/2016    2.529412\n",
       "Name: points_total, dtype: float64"
      ]
     },
     "execution_count": 13,
     "metadata": {},
     "output_type": "execute_result"
    }
   ],
   "source": [
    "# Average points per match\n",
    "avg_match=total_points.groupby('season')['points_total'].sum()/total_points.groupby('season')['points_total'].count()\n",
    "avg_match"
   ]
  },
  {
   "cell_type": "code",
   "execution_count": 14,
   "metadata": {},
   "outputs": [
    {
     "data": {
      "image/png": "[encoded data removed]",
      "text/plain": [
       "<Figure size 720x360 with 1 Axes>"
      ]
     },
     "metadata": {
      "needs_background": "light"
     },
     "output_type": "display_data"
    }
   ],
   "source": [
    "# Bar chart with average points per match per season\n",
    "avg_match.plot(kind=\"bar\", figsize = (10,5), edgecolor = \"k\", colormap=\"ocean\", title=\"Sporting Average Points per Match\")\n",
    "plt.ylabel('Points');"
   ]
  },
  {
   "cell_type": "markdown",
   "metadata": {},
   "source": [
    "<a id='q5'></a>\n",
    "### Did Sporting perform better in the seasons the had only one coach?\n",
    "\n",
    "Stability is the key to success. For some years, Sporting could not keep the same coach throughout the season. The players constantly had to adapt to new methods and strategies every time a new coach was hired.<br>\n",
    "Is it evident in the data that the best seasons of the team were the ones where the coach was the same throughout the season?"
   ]
  },
  {
   "cell_type": "code",
   "execution_count": 15,
   "metadata": {},
   "outputs": [
    {
     "data": {
      "image/png": "[encoded data removed]",
      "text/plain": [
       "<Figure size 720x360 with 1 Axes>"
      ]
     },
     "metadata": {
      "needs_background": "light"
     },
     "output_type": "display_data"
    }
   ],
   "source": [
    "df = pd.DataFrame(avg_match)\n",
    "df['coaches_nr'] = [1,3,3,2,3,1,1,1]\n",
    "df.plot(kind=\"scatter\", x='points_total', y='coaches_nr', figsize=(10,5))\n",
    "plt.yticks(np.arange(1, 4, step=1))\n",
    "plt.xlabel('Average Points per Match')\n",
    "plt.ylabel('Number of Coaches');\n"
   ]
  },
  {
   "cell_type": "markdown",
   "metadata": {},
   "source": [
    "<a id='conclusions'></a>\n",
    "## Conclusions\n",
    "\n",
    "\n",
    "### How was Sporting CP performance in the last seasons?\n",
    "Sporting supporters never lose faith, but in the past years the team did not achieve the most desired trophy: the league championship title!<br>\n",
    "Is there a trend that shows some improvement and give the supporters some hope that Sporting will be a serious title challenger?<br>\n",
    "The chart with the total point earned each season show that the team had a better performance in the last two years.<br>\n",
    "The Portuguese league increased the number of teams in 2014/2015 to 18, so in order to correctly compare the data, the average of points earned by game was calculated. After this last action, the trend is the same: there is a better performance in the last years, but while in the total points chart the performance in 2013/2014 seemed to be considerably lower than in 2014/2015, after applying the correction factor we can verify that both seasons were very alike.<br>\n",
    "\n",
    "### Did Sporting perform better in the seasons the had only one coach?\n",
    "\n",
    "Coaches need to show results. In professional football, there is no mercy: if the team does not perform, the coach gets fired.<br>\n",
    "Experts know that stability is the key to success. Sir Alex Furguson was Man United coach for many years and during that period Man U was one of the top teams in Europe.<br>\n",
    "The data with the number of coaches Sporting had each season was not available in the database, but a quick google search allowed me to easily gather the data for the eight seasons of this study.<br>\n",
    "The scatterplot chart clearly shows a negative correlation between the number of coaches in each season and the team's performance.<br>\n",
    "A correlation does not necessarly mean causation. It is most probale that the change of coach was motivated by the team's poor results that the poor results being a consequence of the change. Nevertheless, there is no doubt (according to the  data) that the best seasons were the ones where the team had the same coach throughout the season."
   ]
  }
 ],
 "metadata": {
  "kernelspec": {
   "display_name": "Python 3",
   "language": "python",
   "name": "python3"
  },
  "language_info": {
   "codemirror_mode": {
    "name": "ipython",
    "version": 3
   },
   "file_extension": ".py",
   "mimetype": "text/x-python",
   "name": "python",
   "nbconvert_exporter": "python",
   "pygments_lexer": "ipython3",
   "version": "3.7.3"
  }
 },
 "nbformat": 4,
 "nbformat_minor": 2
}
